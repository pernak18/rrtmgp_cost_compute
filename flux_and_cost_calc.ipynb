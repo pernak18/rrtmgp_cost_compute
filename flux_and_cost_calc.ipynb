{
 "cells": [
  {
   "cell_type": "markdown",
   "metadata": {},
   "source": [
    "# RRTMGP Flux Calculation and Cost Computation"
   ]
  },
  {
   "cell_type": "markdown",
   "metadata": {},
   "source": [
    "See [repo README](https://github.com/pernak18/rrtmgp_cost_compute#readme) for additional details."
   ]
  },
  {
   "cell_type": "markdown",
   "metadata": {},
   "source": [
    "# Dependencies\n",
    "\n",
    "`numpy` is installed in the Python environment at NERSC (`module load python`), but `xarray` is not, so the user must install the package on their own. `PIPPATH` is the assumed location. This notebook depends heavily on `xarray`."
   ]
  },
  {
   "cell_type": "code",
   "execution_count": null,
   "metadata": {},
   "outputs": [],
   "source": [
    "%load_ext autoreload\n",
    "%autoreload 2"
   ]
  },
  {
   "cell_type": "code",
   "execution_count": null,
   "metadata": {},
   "outputs": [],
   "source": [
    "# standard libraries\n",
    "import os, sys\n",
    "import pathlib as PL\n",
    "\n",
    "# directory in which libraries installed with conda are saved\n",
    "PIPPATH = '{}/.local/'.format(os.path.expanduser('~')) + \\\n",
    "    'cori/3.7-anaconda-2019.10/lib/python3.7/site-packages'\n",
    "PATHS = ['common', PIPPATH]\n",
    "for path in PATHS: sys.path.append(path)\n",
    "\n",
    "# in common git submodule\n",
    "import utils\n",
    "\n",
    "# local libraries\n",
    "import flux_cost_compute as FCC\n",
    "import cost_compare as COMPARE\n",
    "\n",
    "# pip/conda installs\n",
    "import xarray as xa\n",
    "import numpy as np"
   ]
  },
  {
   "cell_type": "markdown",
   "metadata": {},
   "source": [
    "# Paths"
   ]
  },
  {
   "cell_type": "code",
   "execution_count": null,
   "metadata": {},
   "outputs": [],
   "source": [
    "inYAML = PL.Path('cost_compare_LW.yaml')\n",
    "assert inYAML.is_file(), 'Could not find {}, returning'.format(inYAML)"
   ]
  },
  {
   "cell_type": "markdown",
   "metadata": {},
   "source": [
    "# Object Initialization"
   ]
  },
  {
   "cell_type": "markdown",
   "metadata": {},
   "source": [
    "All of the computation is performed in a `costCompare` object defined in [`cost_compare.py`](https://github.com/pernak18/rrtmgp_cost_compute/blob/main/cost_compare.py), which is dependent only on a configuration file in put we defined as `inYAML` in the \"Paths\" section of this notebook. That wrapper has a `main` module that has been essentially copied and pasted into this section."
   ]
  },
  {
   "cell_type": "code",
   "execution_count": null,
   "metadata": {},
   "outputs": [],
   "source": [
    "import resource\n",
    "\n",
    "resource.setrlimit(\n",
    "    resource.RLIMIT_STACK,\n",
    "    (resource.RLIM_INFINITY, resource.RLIM_INFINITY))\n",
    "\n",
    "cObj = COMPARE.costCompare(inYAML)\n",
    "cObj.aliasesGarandLW()\n",
    "cObj.readYAML()\n",
    "if cObj.doFlux: cObj.runRRTMGP()\n",
    "cObj.costCalc()"
   ]
  },
  {
   "cell_type": "code",
   "execution_count": null,
   "metadata": {},
   "outputs": [],
   "source": []
  }
 ],
 "metadata": {
  "kernelspec": {
   "display_name": "NERSC Python",
   "language": "python",
   "name": "python3"
  },
  "language_info": {
   "codemirror_mode": {
    "name": "ipython",
    "version": 3
   },
   "file_extension": ".py",
   "mimetype": "text/x-python",
   "name": "python",
   "nbconvert_exporter": "python",
   "pygments_lexer": "ipython3",
   "version": "3.9.7"
  },
  "toc-showmarkdowntxt": true
 },
 "nbformat": 4,
 "nbformat_minor": 4
}
